{
 "cells": [
  {
   "cell_type": "code",
   "execution_count": null,
   "metadata": {
    "execution": {
     "iopub.execute_input": "2025-05-10T00:49:54.610457Z",
     "iopub.status.busy": "2025-05-10T00:49:54.610202Z",
     "iopub.status.idle": "2025-05-10T00:49:54.613985Z",
     "shell.execute_reply": "2025-05-10T00:49:54.613348Z",
     "shell.execute_reply.started": "2025-05-10T00:49:54.610437Z"
    },
    "trusted": true
   },
   "outputs": [],
   "source": [
    "import os\n",
    "import librosa\n",
    "import librosa.display\n",
    "import matplotlib.pyplot as plt\n",
    "import numpy as np\n",
    "import os\n",
    "from tqdm import tqdm\n",
    "import torch\n",
    "import torch.nn as nn\n",
    "import torchvision.transforms as transforms\n",
    "from torchvision import models\n",
    "from torch.utils.data import Dataset, DataLoader\n",
    "from PIL import Image\n",
    "import random\n",
    "\n",
    "\n",
    "input_dir = '/kaggle/input/birdclef-2025/train_audio'"
   ]
  },
  {
   "cell_type": "code",
   "execution_count": null,
   "metadata": {
    "_cell_guid": "b1076dfc-b9ad-4769-8c92-a6c4dae69d19",
    "_uuid": "8f2839f25d086af736a60e9eeb907d3b93b6e0e5",
    "execution": {
     "iopub.execute_input": "2025-05-10T00:50:07.756200Z",
     "iopub.status.busy": "2025-05-10T00:50:07.755929Z"
    },
    "trusted": true
   },
   "outputs": [
    {
     "name": "stderr",
     "output_type": "stream",
     "text": [
      "  5%|▌         | 1555/28564 [15:52<2:57:58,  2.53it/s] "
     ]
    }
   ],
   "source": [
    "def audio_to_melspectrogram(file_path, save_path):\n",
    "    y, sr = librosa.load(file_path, sr=None)\n",
    "    S = librosa.feature.melspectrogram(y=y, sr=sr, n_mels=128)\n",
    "    S_DB = librosa.power_to_db(S, ref=np.max)\n",
    "\n",
    "    plt.figure(figsize=(2.56, 2.56), dpi=100)\n",
    "    librosa.display.specshow(S_DB, sr=sr, cmap='magma')\n",
    "    plt.axis('off')\n",
    "    plt.tight_layout(pad=0)\n",
    "    plt.savefig(save_path, bbox_inches='tight', pad_inches=0)\n",
    "    plt.close()\n",
    "\n",
    "file_list = []\n",
    "for root, _, files in os.walk(input_dir):\n",
    "    for file in files:\n",
    "        if file.endswith('.ogg'):\n",
    "            full_path = os.path.join(root, file)\n",
    "            file_list.append(full_path)\n",
    "\n",
    "\n",
    "output_dir = '/kaggle/working/train_images'\n",
    "os.makedirs(output_dir, exist_ok=True)\n",
    "\n",
    "for input_path in tqdm(file_list):\n",
    "    base_name = os.path.basename(input_path).replace('.ogg', '.png')\n",
    "    output_path = os.path.join(output_dir, base_name)\n",
    "    if not os.path.exists(output_path):\n",
    "        audio_to_melspectrogram(input_path, output_path)"
   ]
  },
  {
   "cell_type": "code",
   "execution_count": null,
   "metadata": {
    "trusted": true
   },
   "outputs": [],
   "source": [
    "transform = transforms.Compose([\n",
    "    transforms.Resize((224, 224)),\n",
    "    transforms.ToTensor(),\n",
    "])\n",
    "\n",
    "# Define a dummy dataset using 10 random images\n",
    "class SpectrogramDataset(Dataset):\n",
    "    def __init__(self, image_dir, transform=None):\n",
    "        self.image_dir = image_dir\n",
    "        self.image_files = os.listdir(image_dir)\n",
    "        random.seed(42)\n",
    "        self.image_files = random.sample(self.image_files, 10)  # select 10 files\n",
    "        self.transform = transform\n",
    "\n",
    "    def __len__(self):\n",
    "        return len(self.image_files)\n",
    "\n",
    "    def __getitem__(self, idx):\n",
    "        img_path = os.path.join(self.image_dir, self.image_files[idx])\n",
    "        image = Image.open(img_path).convert(\"RGB\")\n",
    "        if self.transform:\n",
    "            image = self.transform(image)\n",
    "        label = torch.tensor([1.0])  # dummy binary label for demonstration\n",
    "        return image, label\n",
    "\n",
    "dataset = SpectrogramDataset('/kaggle/working/train_images', transform=transform)\n",
    "dataloader = DataLoader(dataset, batch_size=4, shuffle=True)\n",
    "\n",
    "# Load pretrained ResNet18 and modify the output layer\n",
    "model = models.resnet18(weights=None)\n",
    "model.fc = nn.Linear(model.fc.in_features, 1)\n",
    "\n",
    "device = torch.device(\"cuda\" if torch.cuda.is_available() else \"cpu\")\n",
    "model.to(device)\n",
    "\n",
    "# Define optimizer and loss\n",
    "criterion = nn.BCEWithLogitsLoss()\n",
    "optimizer = torch.optim.Adam(model.parameters(), lr=1e-4)\n",
    "\n",
    "# Training loop (10 epochs)\n",
    "model.train()\n",
    "for epoch in range(10):\n",
    "    total_loss = 0.0\n",
    "    for images, labels in dataloader:\n",
    "        images, labels = images.to(device), labels.to(device)\n",
    "        optimizer.zero_grad()\n",
    "        outputs = model(images)\n",
    "        loss = criterion(outputs, labels)\n",
    "        loss.backward()\n",
    "        optimizer.step()\n",
    "        total_loss += loss.item()\n",
    "    print(f\"Epoch {epoch+1}, Loss: {total_loss:.4f}\")"
   ]
  },
  {
   "cell_type": "code",
   "execution_count": null,
   "metadata": {
    "trusted": true
   },
   "outputs": [],
   "source": [
    "import pandas as pd\n",
    "\n",
    "# Load sample submission format\n",
    "sub = pd.read_csv('/kaggle/input/birdclef-2025/sample_submission.csv')\n",
    "\n",
    "img_path = os.path.join('/kaggle/working/train_images', os.listdir('/kaggle/working/train_images')[0])\n",
    "img = Image.open(img_path).convert('RGB')\n",
    "img_tensor = transform(img).unsqueeze(0).to(device)\n",
    "\n",
    "model.eval()\n",
    "with torch.no_grad():\n",
    "    output = model(img_tensor)\n",
    "    prob = torch.sigmoid(output).item()\n",
    "\n",
    "print(f\"Predicted probability used for submission: {prob:.4f}\")\n",
    "\n",
    "for col in sub.columns[1:]:\n",
    "    sub[col] = prob\n",
    "\n",
    "sub.to_csv('/kaggle/working/submission.csv', index=False)"
   ]
  }
 ],
 "metadata": {
  "kaggle": {
   "accelerator": "nvidiaTeslaT4",
   "dataSources": [
    {
     "databundleVersionId": 11361821,
     "sourceId": 91844,
     "sourceType": "competition"
    }
   ],
   "dockerImageVersionId": 31012,
   "isGpuEnabled": true,
   "isInternetEnabled": false,
   "language": "python",
   "sourceType": "notebook"
  },
  "kernelspec": {
   "display_name": "Python 3",
   "language": "python",
   "name": "python3"
  },
  "language_info": {
   "codemirror_mode": {
    "name": "ipython",
    "version": 3
   },
   "file_extension": ".py",
   "mimetype": "text/x-python",
   "name": "python",
   "nbconvert_exporter": "python",
   "pygments_lexer": "ipython3",
   "version": "3.11.11"
  }
 },
 "nbformat": 4,
 "nbformat_minor": 4
}
